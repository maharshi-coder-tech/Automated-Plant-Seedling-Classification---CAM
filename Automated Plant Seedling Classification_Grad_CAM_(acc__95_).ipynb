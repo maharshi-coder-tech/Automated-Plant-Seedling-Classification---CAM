{
  "metadata": {
    "kernelspec": {
      "language": "python",
      "display_name": "Python 3",
      "name": "python3"
    },
    "language_info": {
      "pygments_lexer": "ipython3",
      "nbconvert_exporter": "python",
      "version": "3.6.4",
      "file_extension": ".py",
      "codemirror_mode": {
        "name": "ipython",
        "version": 3
      },
      "name": "python",
      "mimetype": "text/x-python"
    },
    "colab": {
      "name": "Plant seedlings classifier & Grad-CAM (acc. >95%) ",
      "provenance": []
    }
  },
  "nbformat_minor": 0,
  "nbformat": 4,
  "cells": [
    {
      "cell_type": "markdown",
      "source": [
        "# Plant seedlings classifier\n",
        "## \\# Class activation heatmap for image classification\n",
        "## \\# Grad-CAM class activation visualization\n",
        "\n",
        "Having around 5.000 pictures of 12 different crop and weed seedlings\n",
        "\n",
        "![seedlings](https://i.imgur.com/6oTep8r.png)"
      ],
      "metadata": {
        "id": "Si9c9vEEt5G5"
      }
    },
    {
      "cell_type": "markdown",
      "source": [
        "# 1. Load and transform the dataset<a class=\"anchor\" id=\"1\"></a>"
      ],
      "metadata": {
        "id": "n0zLZLKUt5G8"
      }
    },
    {
      "cell_type": "code",
      "source": [
        "import numpy as np\n",
        "import pandas as pd\n",
        "from pathlib import Path\n",
        "import os.path\n",
        "import matplotlib.pyplot as plt\n",
        "from IPython.display import Image, display, Markdown\n",
        "import matplotlib.cm as cm\n",
        "from sklearn.model_selection import train_test_split\n",
        "import tensorflow as tf\n",
        "\n",
        "def printmd(string):\n",
        "    # Print with Markdowns\n",
        "    display(Markdown(string))"
      ],
      "metadata": {
        "_kg_hide-input": false,
        "execution": {
          "iopub.status.busy": "2021-08-25T05:09:09.966382Z",
          "iopub.execute_input": "2021-08-25T05:09:09.966738Z",
          "iopub.status.idle": "2021-08-25T05:09:09.974388Z",
          "shell.execute_reply.started": "2021-08-25T05:09:09.966709Z",
          "shell.execute_reply": "2021-08-25T05:09:09.973667Z"
        },
        "trusted": true,
        "id": "i56BFAbPt5G8"
      },
      "execution_count": null,
      "outputs": []
    },
    {
      "cell_type": "code",
      "source": [
        "image_dir = Path('../input/v2-plant-seedlings-dataset')\n",
        "\n",
        "# Get filepaths and labels\n",
        "filepaths = list(image_dir.glob(r'**/*.png'))\n",
        "labels = list(map(lambda x: os.path.split(os.path.split(x)[0])[1], filepaths))"
      ],
      "metadata": {
        "execution": {
          "iopub.status.busy": "2021-08-25T05:09:10.141908Z",
          "iopub.execute_input": "2021-08-25T05:09:10.142173Z",
          "iopub.status.idle": "2021-08-25T05:09:10.306296Z",
          "shell.execute_reply.started": "2021-08-25T05:09:10.142148Z",
          "shell.execute_reply": "2021-08-25T05:09:10.305577Z"
        },
        "trusted": true,
        "id": "IYu-IL6Nt5G-"
      },
      "execution_count": null,
      "outputs": []
    },
    {
      "cell_type": "code",
      "source": [
        "filepaths = pd.Series(filepaths, name='Filepath').astype(str)\n",
        "labels = pd.Series(labels, name='Label')\n",
        "\n",
        "# Concatenate filepaths and labels\n",
        "image_df = pd.concat([filepaths, labels], axis=1)\n",
        "\n",
        "# Shuffle the DataFrame and reset index\n",
        "image_df = image_df.sample(frac=1).reset_index(drop = True)\n",
        "\n",
        "# Show the result\n",
        "image_df.head(3)"
      ],
      "metadata": {
        "execution": {
          "iopub.status.busy": "2021-08-25T05:09:10.308037Z",
          "iopub.execute_input": "2021-08-25T05:09:10.308382Z",
          "iopub.status.idle": "2021-08-25T05:09:10.331572Z",
          "shell.execute_reply.started": "2021-08-25T05:09:10.308346Z",
          "shell.execute_reply": "2021-08-25T05:09:10.330762Z"
        },
        "trusted": true,
        "id": "uAofb7Bst5G-"
      },
      "execution_count": null,
      "outputs": []
    },
    {
      "cell_type": "code",
      "source": [
        "# Display some pictures of the dataset with their labels\n",
        "fig, axes = plt.subplots(nrows=3, ncols=5, figsize=(15, 10),\n",
        "                        subplot_kw={'xticks': [], 'yticks': []})\n",
        "\n",
        "for i, ax in enumerate(axes.flat):\n",
        "    ax.imshow(plt.imread(image_df.Filepath[i]))\n",
        "    ax.set_title(image_df.Label[i])\n",
        "plt.tight_layout()\n",
        "plt.show()"
      ],
      "metadata": {
        "execution": {
          "iopub.status.busy": "2021-08-25T05:09:10.417224Z",
          "iopub.execute_input": "2021-08-25T05:09:10.41749Z",
          "iopub.status.idle": "2021-08-25T05:09:12.344383Z",
          "shell.execute_reply.started": "2021-08-25T05:09:10.417462Z",
          "shell.execute_reply": "2021-08-25T05:09:12.343359Z"
        },
        "trusted": true,
        "id": "AHRp67i-t5G_"
      },
      "execution_count": null,
      "outputs": []
    },
    {
      "cell_type": "markdown",
      "source": [
        "# 2. Load the Images with a generator<a class=\"anchor\" id=\"2\"></a>"
      ],
      "metadata": {
        "id": "TIWnNKmot5G_"
      }
    },
    {
      "cell_type": "code",
      "source": [
        "def create_gen():\n",
        "    # Load the Images with a generator and Data Augmentation\n",
        "    train_generator = tf.keras.preprocessing.image.ImageDataGenerator(\n",
        "        preprocessing_function=tf.keras.applications.mobilenet_v2.preprocess_input,\n",
        "        validation_split=0.1\n",
        "    )\n",
        "\n",
        "    test_generator = tf.keras.preprocessing.image.ImageDataGenerator(\n",
        "        preprocessing_function=tf.keras.applications.mobilenet_v2.preprocess_input\n",
        "    )\n",
        "\n",
        "    train_images = train_generator.flow_from_dataframe(\n",
        "        dataframe=train_df,\n",
        "        x_col='Filepath',\n",
        "        y_col='Label',\n",
        "        target_size=(224, 224),\n",
        "        color_mode='rgb',\n",
        "        class_mode='categorical',\n",
        "        batch_size=32,\n",
        "        shuffle=True,\n",
        "        seed=0,\n",
        "        subset='training',\n",
        "        rotation_range=30, # Uncomment to use data augmentation\n",
        "        zoom_range=0.15,\n",
        "        width_shift_range=0.2,\n",
        "        height_shift_range=0.2,\n",
        "        shear_range=0.15,\n",
        "        horizontal_flip=True,\n",
        "        fill_mode=\"nearest\"\n",
        "    )\n",
        "\n",
        "    val_images = train_generator.flow_from_dataframe(\n",
        "        dataframe=train_df,\n",
        "        x_col='Filepath',\n",
        "        y_col='Label',\n",
        "        target_size=(224, 224),\n",
        "        color_mode='rgb',\n",
        "        class_mode='categorical',\n",
        "        batch_size=32,\n",
        "        shuffle=True,\n",
        "        seed=0,\n",
        "        subset='validation',\n",
        "        rotation_range=30, # Uncomment to use data augmentation\n",
        "        zoom_range=0.15,\n",
        "        width_shift_range=0.2,\n",
        "        height_shift_range=0.2,\n",
        "        shear_range=0.15,\n",
        "        horizontal_flip=True,\n",
        "        fill_mode=\"nearest\"\n",
        "    )\n",
        "\n",
        "    test_images = test_generator.flow_from_dataframe(\n",
        "        dataframe=test_df,\n",
        "        x_col='Filepath',\n",
        "        y_col='Label',\n",
        "        target_size=(224, 224),\n",
        "        color_mode='rgb',\n",
        "        class_mode='categorical',\n",
        "        batch_size=32,\n",
        "        shuffle=False\n",
        "    )\n",
        "\n",
        "    return train_generator,test_generator,train_images,val_images,test_images"
      ],
      "metadata": {
        "execution": {
          "iopub.status.busy": "2021-08-25T05:09:12.346248Z",
          "iopub.execute_input": "2021-08-25T05:09:12.346582Z",
          "iopub.status.idle": "2021-08-25T05:09:12.358918Z",
          "shell.execute_reply.started": "2021-08-25T05:09:12.346548Z",
          "shell.execute_reply": "2021-08-25T05:09:12.358041Z"
        },
        "trusted": true,
        "id": "wfnw6mJht5HA"
      },
      "execution_count": null,
      "outputs": []
    },
    {
      "cell_type": "code",
      "source": [
        "# Load the pretained model\n",
        "pretrained_model = tf.keras.applications.MobileNetV2(\n",
        "    input_shape=(224, 224, 3),\n",
        "    include_top=False,\n",
        "    weights='imagenet',\n",
        "    pooling='avg'\n",
        ")\n",
        "\n",
        "pretrained_model.trainable = False"
      ],
      "metadata": {
        "execution": {
          "iopub.status.busy": "2021-08-25T05:09:12.360113Z",
          "iopub.execute_input": "2021-08-25T05:09:12.360676Z",
          "iopub.status.idle": "2021-08-25T05:09:13.311397Z",
          "shell.execute_reply.started": "2021-08-25T05:09:12.360608Z",
          "shell.execute_reply": "2021-08-25T05:09:13.310611Z"
        },
        "trusted": true,
        "id": "BcQUXVJNt5HA"
      },
      "execution_count": null,
      "outputs": []
    },
    {
      "cell_type": "markdown",
      "source": [
        "# 3. Train the model<a class=\"anchor\" id=\"3\"></a>"
      ],
      "metadata": {
        "id": "dbOqjKK4t5HB"
      }
    },
    {
      "cell_type": "code",
      "source": [
        "# Separate in train and test data\n",
        "train_df, test_df = train_test_split(image_df, train_size=0.9, shuffle=True, random_state=1)\n",
        "\n",
        "# Create the generators\n",
        "train_generator,test_generator,train_images,val_images,test_images = create_gen()"
      ],
      "metadata": {
        "execution": {
          "iopub.status.busy": "2021-08-25T05:09:13.313651Z",
          "iopub.execute_input": "2021-08-25T05:09:13.314222Z",
          "iopub.status.idle": "2021-08-25T05:09:17.241467Z",
          "shell.execute_reply.started": "2021-08-25T05:09:13.31418Z",
          "shell.execute_reply": "2021-08-25T05:09:17.240557Z"
        },
        "trusted": true,
        "id": "TztRDgg4t5HB"
      },
      "execution_count": null,
      "outputs": []
    },
    {
      "cell_type": "code",
      "source": [
        "inputs = pretrained_model.input\n",
        "\n",
        "x = tf.keras.layers.Dense(128, activation='relu')(pretrained_model.output)\n",
        "x = tf.keras.layers.Dense(128, activation='relu')(x)\n",
        "\n",
        "outputs = tf.keras.layers.Dense(12, activation='softmax')(x)\n",
        "\n",
        "model = tf.keras.Model(inputs=inputs, outputs=outputs)\n",
        "\n",
        "model.compile(\n",
        "    optimizer='adam',\n",
        "    loss='categorical_crossentropy',\n",
        "    metrics=['accuracy']\n",
        ")\n",
        "\n",
        "history = model.fit(\n",
        "    train_images,\n",
        "    validation_data=val_images,\n",
        "    batch_size = 32,\n",
        "    epochs=10,\n",
        "    callbacks=[\n",
        "        tf.keras.callbacks.EarlyStopping(\n",
        "            monitor='val_loss',\n",
        "            patience=2,\n",
        "            restore_best_weights=True\n",
        "        )\n",
        "    ]\n",
        ")"
      ],
      "metadata": {
        "execution": {
          "iopub.status.busy": "2021-08-25T05:09:17.244256Z",
          "iopub.execute_input": "2021-08-25T05:09:17.244614Z",
          "iopub.status.idle": "2021-08-25T05:25:06.690398Z",
          "shell.execute_reply.started": "2021-08-25T05:09:17.244582Z",
          "shell.execute_reply": "2021-08-25T05:25:06.689661Z"
        },
        "trusted": true,
        "id": "wzLbcM8tt5HB"
      },
      "execution_count": null,
      "outputs": []
    },
    {
      "cell_type": "code",
      "source": [
        "pd.DataFrame(history.history)[['accuracy','val_accuracy']].plot()\n",
        "plt.title(\"Accuracy\")\n",
        "plt.show()"
      ],
      "metadata": {
        "execution": {
          "iopub.status.busy": "2021-08-25T05:25:06.692242Z",
          "iopub.execute_input": "2021-08-25T05:25:06.692628Z",
          "iopub.status.idle": "2021-08-25T05:25:06.831903Z",
          "shell.execute_reply.started": "2021-08-25T05:25:06.692592Z",
          "shell.execute_reply": "2021-08-25T05:25:06.831072Z"
        },
        "trusted": true,
        "id": "R-I8nE0qt5HB"
      },
      "execution_count": null,
      "outputs": []
    },
    {
      "cell_type": "code",
      "source": [
        "pd.DataFrame(history.history)[['loss','val_loss']].plot()\n",
        "plt.title(\"Loss\")\n",
        "plt.show()"
      ],
      "metadata": {
        "execution": {
          "iopub.status.busy": "2021-08-25T05:25:06.833565Z",
          "iopub.execute_input": "2021-08-25T05:25:06.833904Z",
          "iopub.status.idle": "2021-08-25T05:25:06.974305Z",
          "shell.execute_reply.started": "2021-08-25T05:25:06.833869Z",
          "shell.execute_reply": "2021-08-25T05:25:06.973509Z"
        },
        "trusted": true,
        "id": "nF8pfr-mt5HB"
      },
      "execution_count": null,
      "outputs": []
    },
    {
      "cell_type": "markdown",
      "source": [
        "# 4. Visualize the result<a class=\"anchor\" id=\"4\"></a>"
      ],
      "metadata": {
        "id": "pHDioDSMt5HC"
      }
    },
    {
      "cell_type": "code",
      "source": [
        "results = model.evaluate(test_images, verbose=0)"
      ],
      "metadata": {
        "execution": {
          "iopub.status.busy": "2021-08-25T05:25:06.975818Z",
          "iopub.execute_input": "2021-08-25T05:25:06.976165Z",
          "iopub.status.idle": "2021-08-25T05:25:18.201559Z",
          "shell.execute_reply.started": "2021-08-25T05:25:06.976129Z",
          "shell.execute_reply": "2021-08-25T05:25:18.200784Z"
        },
        "trusted": true,
        "id": "HEFAcmUtt5HC"
      },
      "execution_count": null,
      "outputs": []
    },
    {
      "cell_type": "code",
      "source": [
        "printmd(\" ## Test Loss: {:.5f}\".format(results[0]))\n",
        "printmd(\"## Accuracy on the test set: {:.2f}%\".format(results[1] * 100))"
      ],
      "metadata": {
        "execution": {
          "iopub.status.busy": "2021-08-25T05:25:18.205098Z",
          "iopub.execute_input": "2021-08-25T05:25:18.205356Z",
          "iopub.status.idle": "2021-08-25T05:25:18.216663Z",
          "shell.execute_reply.started": "2021-08-25T05:25:18.205331Z",
          "shell.execute_reply": "2021-08-25T05:25:18.2158Z"
        },
        "trusted": true,
        "id": "VSUvcUhht5HC"
      },
      "execution_count": null,
      "outputs": []
    },
    {
      "cell_type": "code",
      "source": [
        "# Predict the label of the test_images\n",
        "pred = model.predict(test_images)\n",
        "pred = np.argmax(pred,axis=1)\n",
        "\n",
        "# Map the label\n",
        "labels = (train_images.class_indices)\n",
        "labels = dict((v,k) for k,v in labels.items())\n",
        "pred = [labels[k] for k in pred]\n",
        "\n",
        "# Display the result\n",
        "print(f'The first 5 predictions: {pred[:5]}')"
      ],
      "metadata": {
        "execution": {
          "iopub.status.busy": "2021-08-25T05:25:18.217904Z",
          "iopub.execute_input": "2021-08-25T05:25:18.218242Z",
          "iopub.status.idle": "2021-08-25T05:25:28.71659Z",
          "shell.execute_reply.started": "2021-08-25T05:25:18.218207Z",
          "shell.execute_reply": "2021-08-25T05:25:28.715873Z"
        },
        "trusted": true,
        "id": "Kw6jgMOWt5HC"
      },
      "execution_count": null,
      "outputs": []
    },
    {
      "cell_type": "code",
      "source": [
        "from sklearn.metrics import classification_report\n",
        "y_test = list(test_df.Label)\n",
        "print(classification_report(y_test, pred))"
      ],
      "metadata": {
        "execution": {
          "iopub.status.busy": "2021-08-25T05:25:28.719601Z",
          "iopub.execute_input": "2021-08-25T05:25:28.719884Z",
          "iopub.status.idle": "2021-08-25T05:25:28.753347Z",
          "shell.execute_reply.started": "2021-08-25T05:25:28.719857Z",
          "shell.execute_reply": "2021-08-25T05:25:28.752603Z"
        },
        "trusted": true,
        "id": "tXbChRvLt5HC"
      },
      "execution_count": null,
      "outputs": []
    },
    {
      "cell_type": "code",
      "source": [
        "from sklearn.metrics import confusion_matrix\n",
        "import seaborn as sns\n",
        "\n",
        "cf_matrix = confusion_matrix(y_test, pred, normalize='true')\n",
        "plt.figure(figsize = (10,6))\n",
        "sns.heatmap(cf_matrix, annot=True, xticklabels = sorted(set(y_test)), yticklabels = sorted(set(y_test)))\n",
        "plt.title('Normalized Confusion Matrix')\n",
        "plt.show()"
      ],
      "metadata": {
        "execution": {
          "iopub.status.busy": "2021-08-25T05:25:28.756599Z",
          "iopub.execute_input": "2021-08-25T05:25:28.756873Z",
          "iopub.status.idle": "2021-08-25T05:25:29.511394Z",
          "shell.execute_reply.started": "2021-08-25T05:25:28.756846Z",
          "shell.execute_reply": "2021-08-25T05:25:29.510718Z"
        },
        "trusted": true,
        "id": "hb10VFJ5t5HC"
      },
      "execution_count": null,
      "outputs": []
    },
    {
      "cell_type": "code",
      "source": [
        "# Display some pictures of the dataset with their labels and the predictions\n",
        "fig, axes = plt.subplots(nrows=3, ncols=3, figsize=(15, 15),\n",
        "                        subplot_kw={'xticks': [], 'yticks': []})\n",
        "\n",
        "for i, ax in enumerate(axes.flat):\n",
        "    ax.imshow(plt.imread(test_df.Filepath.iloc[i]))\n",
        "    ax.set_title(f\"True: {test_df.Label.iloc[i]}\\nPredicted: {pred[i]}\")\n",
        "plt.tight_layout()\n",
        "plt.show()"
      ],
      "metadata": {
        "execution": {
          "iopub.status.busy": "2021-08-25T05:25:29.514202Z",
          "iopub.execute_input": "2021-08-25T05:25:29.514493Z",
          "iopub.status.idle": "2021-08-25T05:25:31.450515Z",
          "shell.execute_reply.started": "2021-08-25T05:25:29.514466Z",
          "shell.execute_reply": "2021-08-25T05:25:31.449289Z"
        },
        "trusted": true,
        "id": "biUAtzQpt5HC"
      },
      "execution_count": null,
      "outputs": []
    },
    {
      "cell_type": "markdown",
      "source": [
        "# 5. Class activation heatmap for image classification<a class=\"anchor\" id=\"5\"></a>\n",
        "## Grad-CAM class activation visualization\n",
        "\n"
      ],
      "metadata": {
        "id": "QifwePymt5HD"
      }
    },
    {
      "cell_type": "code",
      "source": [
        "def get_img_array(img_path, size):\n",
        "    img = tf.keras.preprocessing.image.load_img(img_path, target_size=size)\n",
        "    array = tf.keras.preprocessing.image.img_to_array(img)\n",
        "    # We add a dimension to transform our array into a \"batch\"\n",
        "    # of size \"size\"\n",
        "    array = np.expand_dims(array, axis=0)\n",
        "    return array\n",
        "\n",
        "def make_gradcam_heatmap(img_array, model, last_conv_layer_name, pred_index=None):\n",
        "    # First, we create a model that maps the input image to the activations\n",
        "    # of the last conv layer as well as the output predictions\n",
        "    grad_model = tf.keras.models.Model(\n",
        "        [model.inputs], [model.get_layer(last_conv_layer_name).output, model.output]\n",
        "    )\n",
        "\n",
        "    # Then, we compute the gradient of the top predicted class for our input image\n",
        "    # with respect to the activations of the last conv layer\n",
        "    with tf.GradientTape() as tape:\n",
        "        last_conv_layer_output, preds = grad_model(img_array)\n",
        "        if pred_index is None:\n",
        "            pred_index = tf.argmax(preds[0])\n",
        "        class_channel = preds[:, pred_index]\n",
        "\n",
        "    # This is the gradient of the output neuron (top predicted or chosen)\n",
        "    # with regard to the output feature map of the last conv layer\n",
        "    grads = tape.gradient(class_channel, last_conv_layer_output)\n",
        "\n",
        "    # This is a vector where each entry is the mean intensity of the gradient\n",
        "    # over a specific feature map channel\n",
        "    pooled_grads = tf.reduce_mean(grads, axis=(0, 1, 2))\n",
        "\n",
        "    # We multiply each channel in the feature map array\n",
        "    # by \"how important this channel is\" with regard to the top predicted class\n",
        "    # then sum all the channels to obtain the heatmap class activation\n",
        "    last_conv_layer_output = last_conv_layer_output[0]\n",
        "    heatmap = last_conv_layer_output @ pooled_grads[..., tf.newaxis]\n",
        "    heatmap = tf.squeeze(heatmap)\n",
        "\n",
        "    # For visualization purpose, we will also normalize the heatmap between 0 & 1\n",
        "    heatmap = tf.maximum(heatmap, 0) / tf.math.reduce_max(heatmap)\n",
        "    return heatmap.numpy()\n",
        "\n",
        "def save_and_display_gradcam(img_path, heatmap, cam_path=\"cam.jpg\", alpha=0.4):\n",
        "    # Load the original image\n",
        "    img = tf.keras.preprocessing.image.load_img(img_path)\n",
        "    img = tf.keras.preprocessing.image.img_to_array(img)\n",
        "\n",
        "    # Rescale heatmap to a range 0-255\n",
        "    heatmap = np.uint8(255 * heatmap)\n",
        "\n",
        "    # Use jet colormap to colorize heatmap\n",
        "    jet = cm.get_cmap(\"jet\")\n",
        "\n",
        "    # Use RGB values of the colormap\n",
        "    jet_colors = jet(np.arange(256))[:, :3]\n",
        "    jet_heatmap = jet_colors[heatmap]\n",
        "\n",
        "    # Create an image with RGB colorized heatmap\n",
        "    jet_heatmap = tf.keras.preprocessing.image.array_to_img(jet_heatmap)\n",
        "    jet_heatmap = jet_heatmap.resize((img.shape[1], img.shape[0]))\n",
        "    jet_heatmap = tf.keras.preprocessing.image.img_to_array(jet_heatmap)\n",
        "\n",
        "    # Superimpose the heatmap on original image\n",
        "    superimposed_img = jet_heatmap * alpha + img\n",
        "    superimposed_img = tf.keras.preprocessing.image.array_to_img(superimposed_img)\n",
        "\n",
        "    # Save the superimposed image\n",
        "    superimposed_img.save(cam_path)\n",
        "\n",
        "    # Display Grad CAM\n",
        "#     display(Image(cam_path))\n",
        "\n",
        "    return cam_path\n",
        "\n",
        "preprocess_input = tf.keras.applications.mobilenet_v2.preprocess_input\n",
        "decode_predictions = tf.keras.applications.mobilenet_v2.decode_predictions\n",
        "\n",
        "last_conv_layer_name = \"Conv_1\"\n",
        "img_size = (224,224)\n",
        "\n",
        "# Remove last layer's softmax\n",
        "model.layers[-1].activation = None"
      ],
      "metadata": {
        "execution": {
          "iopub.status.busy": "2021-08-25T05:25:31.452169Z",
          "iopub.execute_input": "2021-08-25T05:25:31.452509Z",
          "iopub.status.idle": "2021-08-25T05:25:31.471138Z",
          "shell.execute_reply.started": "2021-08-25T05:25:31.452474Z",
          "shell.execute_reply": "2021-08-25T05:25:31.47033Z"
        },
        "trusted": true,
        "id": "6exJNnZEt5HD"
      },
      "execution_count": null,
      "outputs": []
    },
    {
      "cell_type": "code",
      "source": [
        "# Display the part of the pictures used by the neural network to classify the pictures\n",
        "fig, axes = plt.subplots(nrows=3, ncols=3, figsize=(15, 15),\n",
        "                        subplot_kw={'xticks': [], 'yticks': []})\n",
        "\n",
        "for i, ax in enumerate(axes.flat):\n",
        "    img_path = test_df.Filepath.iloc[i]\n",
        "    img_array = preprocess_input(get_img_array(img_path, size=img_size))\n",
        "    heatmap = make_gradcam_heatmap(img_array, model, last_conv_layer_name)\n",
        "    cam_path = save_and_display_gradcam(img_path, heatmap)\n",
        "    ax.imshow(plt.imread(cam_path))\n",
        "    ax.set_title(f\"True: {test_df.Label.iloc[i]}\\nPredicted: {pred[i]}\")\n",
        "plt.tight_layout()\n",
        "plt.show()"
      ],
      "metadata": {
        "execution": {
          "iopub.status.busy": "2021-08-25T05:25:31.472628Z",
          "iopub.execute_input": "2021-08-25T05:25:31.472951Z",
          "iopub.status.idle": "2021-08-25T05:25:33.978528Z",
          "shell.execute_reply.started": "2021-08-25T05:25:31.472917Z",
          "shell.execute_reply": "2021-08-25T05:25:33.977622Z"
        },
        "trusted": true,
        "id": "GPHdVC8dt5HD"
      },
      "execution_count": null,
      "outputs": []
    }
  ]
}